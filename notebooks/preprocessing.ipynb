{
 "cells": [
  {
   "cell_type": "markdown",
   "metadata": {},
   "source": [
    "# Import"
   ]
  },
  {
   "cell_type": "code",
   "execution_count": 2,
   "metadata": {},
   "outputs": [
    {
     "data": {
      "text/html": [
       "<div>\n",
       "<style scoped>\n",
       "    .dataframe tbody tr th:only-of-type {\n",
       "        vertical-align: middle;\n",
       "    }\n",
       "\n",
       "    .dataframe tbody tr th {\n",
       "        vertical-align: top;\n",
       "    }\n",
       "\n",
       "    .dataframe thead th {\n",
       "        text-align: right;\n",
       "    }\n",
       "</style>\n",
       "<table border=\"1\" class=\"dataframe\">\n",
       "  <thead>\n",
       "    <tr style=\"text-align: right;\">\n",
       "      <th></th>\n",
       "      <th>age</th>\n",
       "      <th>gender</th>\n",
       "      <th>week_day</th>\n",
       "      <th>days_to_appointment</th>\n",
       "      <th>diabetes</th>\n",
       "      <th>alcoholism</th>\n",
       "      <th>hypertension</th>\n",
       "      <th>handicap</th>\n",
       "      <th>smokes</th>\n",
       "      <th>monetary_help</th>\n",
       "      <th>tuberculosis</th>\n",
       "      <th>sms_reminder</th>\n",
       "      <th>show_up</th>\n",
       "    </tr>\n",
       "  </thead>\n",
       "  <tbody>\n",
       "    <tr>\n",
       "      <th>0</th>\n",
       "      <td>19</td>\n",
       "      <td>m</td>\n",
       "      <td>wednesday</td>\n",
       "      <td>29</td>\n",
       "      <td>0</td>\n",
       "      <td>0</td>\n",
       "      <td>0</td>\n",
       "      <td>0</td>\n",
       "      <td>0</td>\n",
       "      <td>0</td>\n",
       "      <td>0</td>\n",
       "      <td>0</td>\n",
       "      <td>1</td>\n",
       "    </tr>\n",
       "    <tr>\n",
       "      <th>1</th>\n",
       "      <td>24</td>\n",
       "      <td>f</td>\n",
       "      <td>wednesday</td>\n",
       "      <td>1</td>\n",
       "      <td>0</td>\n",
       "      <td>0</td>\n",
       "      <td>0</td>\n",
       "      <td>0</td>\n",
       "      <td>0</td>\n",
       "      <td>0</td>\n",
       "      <td>0</td>\n",
       "      <td>0</td>\n",
       "      <td>1</td>\n",
       "    </tr>\n",
       "    <tr>\n",
       "      <th>2</th>\n",
       "      <td>4</td>\n",
       "      <td>f</td>\n",
       "      <td>tuesday</td>\n",
       "      <td>1</td>\n",
       "      <td>0</td>\n",
       "      <td>0</td>\n",
       "      <td>0</td>\n",
       "      <td>0</td>\n",
       "      <td>0</td>\n",
       "      <td>0</td>\n",
       "      <td>0</td>\n",
       "      <td>0</td>\n",
       "      <td>1</td>\n",
       "    </tr>\n",
       "    <tr>\n",
       "      <th>3</th>\n",
       "      <td>5</td>\n",
       "      <td>m</td>\n",
       "      <td>thursday</td>\n",
       "      <td>15</td>\n",
       "      <td>0</td>\n",
       "      <td>0</td>\n",
       "      <td>0</td>\n",
       "      <td>0</td>\n",
       "      <td>0</td>\n",
       "      <td>0</td>\n",
       "      <td>0</td>\n",
       "      <td>1</td>\n",
       "      <td>1</td>\n",
       "    </tr>\n",
       "    <tr>\n",
       "      <th>4</th>\n",
       "      <td>38</td>\n",
       "      <td>m</td>\n",
       "      <td>tuesday</td>\n",
       "      <td>6</td>\n",
       "      <td>0</td>\n",
       "      <td>0</td>\n",
       "      <td>0</td>\n",
       "      <td>0</td>\n",
       "      <td>0</td>\n",
       "      <td>0</td>\n",
       "      <td>0</td>\n",
       "      <td>1</td>\n",
       "      <td>1</td>\n",
       "    </tr>\n",
       "  </tbody>\n",
       "</table>\n",
       "</div>"
      ],
      "text/plain": [
       "   age gender   week_day  days_to_appointment  diabetes  alcoholism  \\\n",
       "0   19      m  wednesday                   29         0           0   \n",
       "1   24      f  wednesday                    1         0           0   \n",
       "2    4      f    tuesday                    1         0           0   \n",
       "3    5      m   thursday                   15         0           0   \n",
       "4   38      m    tuesday                    6         0           0   \n",
       "\n",
       "   hypertension  handicap  smokes  monetary_help  tuberculosis  sms_reminder  \\\n",
       "0             0         0       0              0             0             0   \n",
       "1             0         0       0              0             0             0   \n",
       "2             0         0       0              0             0             0   \n",
       "3             0         0       0              0             0             1   \n",
       "4             0         0       0              0             0             1   \n",
       "\n",
       "   show_up  \n",
       "0        1  \n",
       "1        1  \n",
       "2        1  \n",
       "3        1  \n",
       "4        1  "
      ]
     },
     "execution_count": 2,
     "metadata": {},
     "output_type": "execute_result"
    }
   ],
   "source": [
    "import pandas as pd\n",
    "import numpy as np\n",
    "import matplotlib.pyplot as plt\n",
    "import seaborn as sns\n",
    "import pickle\n",
    "import xgboost\n",
    "\n",
    "%matplotlib inline\n",
    "\n",
    "vit = pd.read_csv('../data/no-show-300k.csv')\n",
    "\n",
    "# Transformations required for modeling\n",
    "def transform_vitoria(df):\n",
    "    new_names = ['age', 'gender', 'app_registration', 'app_date', 'week_day', 'show_up',\n",
    "                 'diabetes', 'alcoholism', 'hypertension', 'handicap', 'smokes', \n",
    "                 'monetary_help', 'tuberculosis', 'sms_reminder', 'days_to_appointment']\n",
    "    new_order = ['age', 'gender', 'week_day', 'days_to_appointment', 'diabetes', 'alcoholism', \n",
    "                 'hypertension', 'handicap', 'smokes', 'monetary_help', 'tuberculosis', \n",
    "                 'sms_reminder', 'show_up']\n",
    "    df.columns = new_names\n",
    "    df = df.loc[:, new_order]\n",
    "    df.loc[:, 'week_day'] = df.loc[:, 'week_day'].str.lower()\n",
    "    df.loc[:, 'gender'] = df.loc[:, 'gender'].str.lower()\n",
    "    df.loc[:, 'days_to_appointment'] = df.loc[:, 'days_to_appointment'] * -1\n",
    "    df = df.replace({'show_up': {'Show-Up': 1, 'No-Show': 0, '2': 0}})\n",
    "    \n",
    "    return df\n",
    "\n",
    "vit = transform_vitoria(vit)\n",
    "vit.head()"
   ]
  },
  {
   "cell_type": "markdown",
   "metadata": {},
   "source": [
    "# Outlier Removal"
   ]
  },
  {
   "cell_type": "code",
   "execution_count": 42,
   "metadata": {},
   "outputs": [
    {
     "name": "stdout",
     "output_type": "stream",
     "text": [
      "Outliers removed: \n",
      "96\n"
     ]
    },
    {
     "data": {
      "text/plain": [
       "count     96.000000\n",
       "mean     277.937500\n",
       "std       38.398962\n",
       "min      224.000000\n",
       "25%      238.750000\n",
       "50%      279.500000\n",
       "75%      301.000000\n",
       "max      398.000000\n",
       "Name: days_to_appointment, dtype: float64"
      ]
     },
     "execution_count": 42,
     "metadata": {},
     "output_type": "execute_result"
    }
   ],
   "source": [
    "log_feature = np.log(vit['days_to_appointment'])\n",
    "Q1 = np.percentile(log_feature, 25)\n",
    "Q3 = np.percentile(log_feature, 75)\n",
    "step = (Q3 - Q1) * 1.5\n",
    "\n",
    "log_feature_without_outliers = log_feature[log_feature <= Q3 + step]\n",
    "print('Outliers removed: ')\n",
    "print(len(log_feature) - len(log_feature_without_outliers))\n",
    "vit.loc[log_feature > Q3 + step, 'days_to_appointment'].describe()"
   ]
  },
  {
   "cell_type": "code",
   "execution_count": 43,
   "metadata": {},
   "outputs": [
    {
     "data": {
      "image/png": "[encoded data removed]",
      "text/plain": [
       "<Figure size 576x432 with 4 Axes>"
      ]
     },
     "metadata": {},
     "output_type": "display_data"
    }
   ],
   "source": [
    "fig, ax = plt.subplots(2, 2, figsize=(8, 6))\n",
    "\n",
    "sns.distplot(vit['days_to_appointment'], hist=False, kde_kws={'shade': True}, ax=ax[0, 0])\n",
    "ax[0, 0].set_title('Before transformation', fontsize=16)\n",
    "\n",
    "sns.distplot(log_feature, hist=False, kde_kws={'shade': True}, ax=ax[0, 1])\n",
    "ax[0, 1].set_title('After transformation', fontsize=16)\n",
    "\n",
    "sns.distplot(log_feature_without_outliers, hist=False, kde_kws={'shade': True}, ax=ax[1, 1])\n",
    "ax[1, 1].set_title('After outlier removal', fontsize=16)\n",
    "\n",
    "sns.distplot(vit.loc[log_feature <= Q3 + step, 'days_to_appointment'], hist=False, kde_kws={'shade': True}, ax=ax[1, 0])\n",
    "ax[1, 0].set_title('After outlier removal', fontsize=16)\n",
    "\n",
    "fig.tight_layout()"
   ]
  },
  {
   "cell_type": "markdown",
   "metadata": {},
   "source": [
    "# Feature Selection"
   ]
  },
  {
   "cell_type": "code",
   "execution_count": 48,
   "metadata": {},
   "outputs": [],
   "source": [
    "with open('../data/features_selected', 'r') as f:\n",
    "    features_selected = [line.strip() for line in f.readlines()]\n",
    "    \n",
    "minimal_data = vit.loc[log_feature <= Q3 + step, features_selected + ['show_up']].reset_index(drop=True)"
   ]
  },
  {
   "cell_type": "markdown",
   "metadata": {},
   "source": [
    "# Normalization"
   ]
  },
  {
   "cell_type": "code",
   "execution_count": 57,
   "metadata": {},
   "outputs": [
    {
     "name": "stderr",
     "output_type": "stream",
     "text": [
      "/opt/conda/lib/python3.6/site-packages/sklearn/preprocessing/data.py:334: DataConversionWarning: Data with input dtype int64 were all converted to float64 by MinMaxScaler.\n",
      "  return self.partial_fit(X, y)\n"
     ]
    }
   ],
   "source": [
    "from sklearn.preprocessing import MinMaxScaler\n",
    "\n",
    "normalizer = MinMaxScaler().fit(minimal_data)"
   ]
  },
  {
   "cell_type": "code",
   "execution_count": 62,
   "metadata": {},
   "outputs": [],
   "source": [
    "a = normalizer.transform(minimal_data)"
   ]
  },
  {
   "cell_type": "code",
   "execution_count": 58,
   "metadata": {},
   "outputs": [],
   "source": [
    "# Export\n",
    "# with open('../data/normalizer', 'wb') as f:\n",
    "#     pickle.dump(normalizer, f)"
   ]
  },
  {
   "cell_type": "markdown",
   "metadata": {},
   "source": [
    "# Train Test Split"
   ]
  },
  {
   "cell_type": "code",
   "execution_count": 54,
   "metadata": {},
   "outputs": [],
   "source": [
    "# Saves minimal data\n",
    "from sklearn.model_selection import train_test_split\n",
    "\n",
    "X = minimal_data.drop('show_up', axis=1)\n",
    "y = minimal_data.loc[:, 'show_up']\n",
    "\n",
    "X_train, X_test, y_train, y_test = train_test_split(X, y, test_size=0.25, random_state=42)\n",
    "\n",
    "cluster_train = X_train.assign(show_up = y_train).reset_index(drop=True)\n",
    "cluster_test = X_test.assign(show_up = y_test).reset_index(drop=True)"
   ]
  },
  {
   "cell_type": "code",
   "execution_count": 55,
   "metadata": {},
   "outputs": [],
   "source": [
    "import pickle\n",
    "\n",
    "minimal_data_dict = {\n",
    "    'X_train': X_train,\n",
    "    'X_test': X_test,\n",
    "    'y_train': y_train,\n",
    "    'y_test': y_test,\n",
    "    'cluster_train': cluster_train,\n",
    "    'cluster_test': cluster_test\n",
    "}\n",
    "\n",
    "# pickle.dump(minimal_data_dict, open(\"../data/minimal_data_dict\", \"wb\"))\n",
    "# minimal_data.to_csv('../data/minimal_data.csv', index=False)"
   ]
  },
  {
   "cell_type": "markdown",
   "metadata": {},
   "source": [
    "# Final import after preprocessing"
   ]
  },
  {
   "cell_type": "code",
   "execution_count": 73,
   "metadata": {},
   "outputs": [],
   "source": [
    "import pandas as pd\n",
    "import pickle\n",
    "\n",
    "minimal_data = pd.read_csv('../data/minimal_data.csv')\n",
    "X = minimal_data.drop('show_up', axis=1)\n",
    "y = minimal_data.loc[:, 'show_up']\n",
    "X_train, X_test, y_train, y_test = train_test_split(X, y, test_size=0.25, random_state=42)\n",
    "cluster_train = X_train.assign(show_up = y_train).reset_index(drop=True)\n",
    "cluster_test = X_test.assign(show_up = y_test).reset_index(drop=True)\n",
    "\n",
    "with open(\"../data/normalizer\", \"rb\") as f:\n",
    "    normalizer = pickle.load(f)\n",
    "    \n",
    "cluster_train_norm = normalizer.transform(cluster_train)\n",
    "cluster_test_norm = normalizer.transform(cluster_test)"
   ]
  },
  {
   "cell_type": "code",
   "execution_count": 76,
   "metadata": {},
   "outputs": [
    {
     "data": {
      "text/plain": [
       "array([[ 0.4173913 ,  0.00460829,  0.        ,  1.        ],\n",
       "       [ 0.30434783,  0.        ,  0.        ,  1.        ],\n",
       "       [ 0.55652174,  0.00460829,  0.        ,  0.        ],\n",
       "       ..., \n",
       "       [ 0.22608696,  0.02304147,  0.        ,  0.        ],\n",
       "       [ 0.27826087,  0.00460829,  0.        ,  1.        ],\n",
       "       [ 0.66086957,  0.02764977,  0.        ,  1.        ]])"
      ]
     },
     "execution_count": 76,
     "metadata": {},
     "output_type": "execute_result"
    }
   ],
   "source": [
    "cluster_train_norm"
   ]
  }
 ],
 "metadata": {
  "kernelspec": {
   "display_name": "Python 3",
   "language": "python",
   "name": "python3"
  },
  "language_info": {
   "codemirror_mode": {
    "name": "ipython",
    "version": 3
   },
   "file_extension": ".py",
   "mimetype": "text/x-python",
   "name": "python",
   "nbconvert_exporter": "python",
   "pygments_lexer": "ipython3",
   "version": "3.6.7"
  }
 },
 "nbformat": 4,
 "nbformat_minor": 2
}

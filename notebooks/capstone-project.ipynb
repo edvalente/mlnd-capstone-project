{
 "cells": [
  {
   "cell_type": "markdown",
   "metadata": {},
   "source": [
    "# Imports"
   ]
  },
  {
   "cell_type": "code",
   "execution_count": null,
   "metadata": {},
   "outputs": [],
   "source": [
    "import pandas as pd\n",
    "import numpy as np\n",
    "import matplotlib.pyplot as plt\n",
    "import seaborn as sns\n",
    "\n",
    "%matplotlib inline"
   ]
  },
  {
   "cell_type": "markdown",
   "metadata": {},
   "source": [
    "---\n",
    "# Data cleaning"
   ]
  },
  {
   "cell_type": "code",
   "execution_count": null,
   "metadata": {},
   "outputs": [],
   "source": [
    "vit = pd.read_csv('../data/no-show-300k.csv')\n",
    "\n",
    "# Transformations required for modeling\n",
    "def transform_vitoria(df):\n",
    "    new_names = ['age', 'gender', 'app_registration', 'app_date', 'week_day', 'show_up',\n",
    "                 'diabetes', 'alcoholism', 'hypertension', 'handicap', 'smokes', \n",
    "                 'monetary_help', 'tuberculosis', 'sms_reminder', 'days_to_appointment']\n",
    "    new_order = ['age', 'gender', 'week_day', 'days_to_appointment', 'diabetes', 'alcoholism', \n",
    "                 'hypertension', 'handicap', 'smokes', 'monetary_help', 'tuberculosis', \n",
    "                 'sms_reminder', 'show_up']\n",
    "    df.columns = new_names\n",
    "    df = df.loc[:, new_order]\n",
    "    df.loc[:, 'week_day'] = df.loc[:, 'week_day'].str.lower()\n",
    "    df.loc[:, 'gender'] = df.loc[:, 'gender'].str.lower()\n",
    "    df.loc[:, 'days_to_appointment'] = df.loc[:, 'days_to_appointment'] * -1\n",
    "    df = df.replace({'show_up': {'Show-Up': 1, 'No-Show': 0, '2': 0}})\n",
    "    \n",
    "    return df\n",
    "\n",
    "vit = transform_vitoria(vit)"
   ]
  },
  {
   "cell_type": "markdown",
   "metadata": {},
   "source": [
    "---\n",
    "# Preprocessing"
   ]
  },
  {
   "cell_type": "code",
   "execution_count": null,
   "metadata": {},
   "outputs": [],
   "source": [
    "from sklearn.model_selection import train_test_split\n",
    "\n",
    "data = pd.get_dummies(vit)\n",
    "\n",
    "X = data.drop('show_up', axis=1)\n",
    "y = data.loc[:, 'show_up']\n",
    "\n",
    "X_train, X_test, y_train, y_test = train_test_split(X, y, test_size=0.25, random_state=42)"
   ]
  },
  {
   "cell_type": "code",
   "execution_count": null,
   "metadata": {},
   "outputs": [],
   "source": [
    "# Export\n",
    "import pickle\n",
    "\n",
    "train_test_data = {'X_train': X_train, 'X_test': X_test, 'y_train': y_train, 'y_test': y_test}\n",
    "\n",
    "# data.to_csv('../data/data_all_features.csv')\n",
    "# pickle.dump(train_test_data, open(\"../data/train_test_data_all_features\", \"wb\"))"
   ]
  },
  {
   "cell_type": "markdown",
   "metadata": {},
   "source": [
    "---\n",
    "# Supervised Learning with xgboost"
   ]
  },
  {
   "cell_type": "code",
   "execution_count": null,
   "metadata": {},
   "outputs": [],
   "source": [
    "from sklearn.model_selection import GridSearchCV\n",
    "from sklearn.metrics import make_scorer, f1_score\n",
    "from xgboost import XGBClassifier\n",
    "\n",
    "clf = XGBClassifier(n_estimators=100, n_jobs=4, silent=False)\n",
    "\n",
    "grid_params = {\n",
    "    'max_depth': [3, 5, 7],\n",
    "    'learning_rate': [0.1, 0.3, 0.5]\n",
    "}\n",
    "\n",
    "scorer = make_scorer(f1_score)\n",
    "\n",
    "def custom_f1_eval(y_pred, y_true):\n",
    "    labels = y_true.get_label()\n",
    "    y_bin = [1. if y_cont > 0.5 else 0. for y_cont in y_pred]\n",
    "    return 'f1_score', f1_score(labels, y_bin)\n",
    "\n",
    "fit_params = {\n",
    "    'eval_set': [(X_test, y_test)],\n",
    "    'eval_metric': custom_f1_eval,\n",
    "    'early_stopping_rounds': 20,\n",
    "    'verbose': True\n",
    "}\n",
    "\n",
    "grid = GridSearchCV(clf, grid_params, cv=5, n_jobs=-1, verbose=True, scoring=scorer)"
   ]
  },
  {
   "cell_type": "code",
   "execution_count": null,
   "metadata": {},
   "outputs": [],
   "source": [
    "grid.fit(X_train, y_train, **fit_params)"
   ]
  },
  {
   "cell_type": "code",
   "execution_count": null,
   "metadata": {},
   "outputs": [],
   "source": [
    "model = grid.best_estimator_"
   ]
  },
  {
   "cell_type": "code",
   "execution_count": null,
   "metadata": {},
   "outputs": [],
   "source": [
    "preds = model.predict(X_test)"
   ]
  },
  {
   "cell_type": "code",
   "execution_count": null,
   "metadata": {},
   "outputs": [],
   "source": [
    "# Export\n",
    "import pickle\n",
    "\n",
    "# pickle.dump(model, open(\"../data/xgb_model_pickle_v2\", \"wb\"))\n",
    "# model.save_model(\"../data/xgb_model_v2\")"
   ]
  },
  {
   "cell_type": "markdown",
   "metadata": {},
   "source": [
    "---\n",
    "# Feature Selection"
   ]
  },
  {
   "cell_type": "markdown",
   "metadata": {},
   "source": [
    "### Information Gain"
   ]
  },
  {
   "cell_type": "code",
   "execution_count": null,
   "metadata": {},
   "outputs": [],
   "source": [
    "selection_table = pd.DataFrame({'var': X.columns, 'mi': model.feature_importances_}).sort_values('mi', ascending=True)\n",
    "\n",
    "plt.barh(selection_table['var'], selection_table['mi'])"
   ]
  },
  {
   "cell_type": "markdown",
   "metadata": {},
   "source": [
    "### Mutual Information"
   ]
  },
  {
   "cell_type": "code",
   "execution_count": null,
   "metadata": {},
   "outputs": [],
   "source": [
    "from sklearn.feature_selection import mutual_info_classif\n",
    "\n",
    "discrete_idx = [i for i in range(2, 19)]\n",
    "selection_scores = mutual_info_classif(X, y, discrete_idx)\n",
    "mi_table = pd.DataFrame({'var': X.columns, 'mi': selection_scores}).sort_values('mi', ascending=True)\n",
    "\n",
    "plt.barh(mi_table['var'], mi_table['mi'])"
   ]
  },
  {
   "cell_type": "markdown",
   "metadata": {},
   "source": [
    "### Creating minimal data"
   ]
  },
  {
   "cell_type": "code",
   "execution_count": null,
   "metadata": {},
   "outputs": [],
   "source": [
    "# Get mutual features\n",
    "from helper import intersect_features\n",
    "mutual_features = intersect_features(selection_table, mi_table, 0.1)"
   ]
  },
  {
   "cell_type": "code",
   "execution_count": null,
   "metadata": {},
   "outputs": [],
   "source": [
    "minimal_data = data.loc[:, mutual_features + ['show_up']]\n",
    "minimal_X_train = X_train.loc[:, mutual_features]\n",
    "minimal_y_train = y_train.loc[:, mutual_features]"
   ]
  },
  {
   "cell_type": "code",
   "execution_count": null,
   "metadata": {},
   "outputs": [],
   "source": [
    "# Export\n",
    "import pickle\n",
    "\n",
    "minimal_train_test_data = {'X_train': minimal_X_train, 'X_test': X_test, 'y_train': minimal_y_train, 'y_test': y_test}\n",
    "\n",
    "# minimal_data.to_csv('../data/data_selected_features.csv')\n",
    "# pickle.dump(minimal_train_test_data, open(\"../data/train_test_data_selected_features\", \"wb\"))"
   ]
  },
  {
   "cell_type": "markdown",
   "metadata": {},
   "source": [
    "---\n",
    "# Unsupervised learning with GMM"
   ]
  },
  {
   "cell_type": "code",
   "execution_count": null,
   "metadata": {},
   "outputs": [],
   "source": [
    "from sklearn.mixture import GaussianMixture\n",
    "from sklearn.metrics import silhouette_score\n",
    "\n",
    "clusterer = GaussianMixture(n_components=12).fit(minimal_data)\n",
    "samples = minimal_data[1000:1005]\n",
    "preds = clusterer.predict(minimal_data)\n",
    "centers = clusterer.means_\n",
    "\n",
    "clustered_data = minimal_data.assign(cluster = pd.Series(preds))\n",
    "preds_proba = clusterer.predict_proba(samples)\n",
    "preds_deter = clusterer.predict(samples)\n",
    "\n",
    "pivot = clustered_data.pivot_table(index='cluster', values=mutual_features + ['show_up'], aggfunc='mean')\n",
    "pivot = pivot.assign(count = clustered_data.groupby('cluster')['show_up'].aggregate('count'))"
   ]
  },
  {
   "cell_type": "code",
   "execution_count": null,
   "metadata": {},
   "outputs": [],
   "source": []
  }
 ],
 "metadata": {
  "kernelspec": {
   "display_name": "Python 3",
   "language": "python",
   "name": "python3"
  },
  "language_info": {
   "codemirror_mode": {
    "name": "ipython",
    "version": 3
   },
   "file_extension": ".py",
   "mimetype": "text/x-python",
   "name": "python",
   "nbconvert_exporter": "python",
   "pygments_lexer": "ipython3",
   "version": "3.6.7"
  }
 },
 "nbformat": 4,
 "nbformat_minor": 2
}

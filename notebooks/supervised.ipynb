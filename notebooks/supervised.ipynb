{
 "cells": [
  {
   "cell_type": "code",
   "execution_count": 11,
   "metadata": {},
   "outputs": [
    {
     "name": "stderr",
     "output_type": "stream",
     "text": [
      "/opt/conda/lib/python3.6/site-packages/sklearn/base.py:253: UserWarning: Trying to unpickle estimator LabelEncoder from version 0.19.1 when using version 0.20.3. This might lead to breaking code or invalid results. Use at your own risk.\n",
      "  UserWarning)\n"
     ]
    }
   ],
   "source": [
    "import pandas as pd\n",
    "import numpy as np\n",
    "import matplotlib.pyplot as plt\n",
    "import seaborn as sns\n",
    "import pickle\n",
    "import xgboost\n",
    "\n",
    "%matplotlib inline\n",
    "\n",
    "# Import data\n",
    "data = pd.read_csv('../data/data_all_features.csv')\n",
    "minimal_data = pd.read_csv('../data/data_selected_features.csv')\n",
    "train_test_data = pickle.load(open(\"../data/train_test_data_all_features\", \"rb\"))\n",
    "minimal_train_test_data = pickle.load(open(\"../data/train_test_data_selected_features\", \"rb\"))\n",
    "model = pickle.load(open(\"../data/xgb_model_pickle_v2\", \"rb\"))\n",
    "\n",
    "# Get samples\n",
    "sample_data = train_test_data['X_test'].assign(show_up = train_test_data['y_test']).reset_index(drop=True)\n",
    "minimal_sample_data = minimal_train_test_data['X_test'].assign(show_up = minimal_train_test_data['y_test']).reset_index(drop=True)\n",
    "\n",
    "np.random.seed(42)\n",
    "indices = np.random.randint(0, len(train_test_data['y_test']), 10)\n",
    "sample = sample_data.loc[indices]\n",
    "minimal_sample = minimal_sample_data.loc[indices]\n",
    "\n",
    "zero_sample = minimal_train_test_data['X_test'].assign(show_up = minimal_train_test_data['y_test']).reset_index(drop = True)\n",
    "zero_sample = zero_sample[zero_sample['show_up'] == 0].reset_index(drop = True)\n",
    "\n",
    "X_train = minimal_train_test_data['X_train']\n",
    "X_test = minimal_train_test_data['X_test']\n",
    "y_train = minimal_train_test_data['y_train']\n",
    "y_test = minimal_train_test_data['y_test']\n",
    "X_test_zero = zero_sample.drop('show_up', axis=1)\n",
    "y_test_zero = zero_sample.loc[:, 'show_up']\n",
    "y_test_zero[0] = 1 # Inserts an 1 so that doesn't mess with metrics"
   ]
  },
  {
   "cell_type": "code",
   "execution_count": 60,
   "metadata": {},
   "outputs": [
    {
     "name": "stdout",
     "output_type": "stream",
     "text": [
      "[0]\tvalidation_0-error:0.30108\tvalidation_0-fbeta_score:0.256297\n",
      "Multiple eval metrics have been passed: 'validation_0-fbeta_score' will be used for early stopping.\n",
      "\n",
      "Will train until validation_0-fbeta_score hasn't improved in 100 rounds.\n",
      "[1]\tvalidation_0-error:0.30108\tvalidation_0-fbeta_score:0.256297\n",
      "[2]\tvalidation_0-error:0.30108\tvalidation_0-fbeta_score:0.256297\n",
      "[3]\tvalidation_0-error:0.30108\tvalidation_0-fbeta_score:0.256297\n",
      "[4]\tvalidation_0-error:0.30108\tvalidation_0-fbeta_score:0.256297\n",
      "[5]\tvalidation_0-error:0.30108\tvalidation_0-fbeta_score:0.256297\n",
      "[6]\tvalidation_0-error:0.30108\tvalidation_0-fbeta_score:0.256297\n",
      "[7]\tvalidation_0-error:0.30108\tvalidation_0-fbeta_score:0.256297\n",
      "[8]\tvalidation_0-error:0.30108\tvalidation_0-fbeta_score:0.256297\n",
      "[9]\tvalidation_0-error:0.30108\tvalidation_0-fbeta_score:0.256297\n",
      "[10]\tvalidation_0-error:0.30108\tvalidation_0-fbeta_score:0.256297\n",
      "[11]\tvalidation_0-error:0.30108\tvalidation_0-fbeta_score:0.256297\n",
      "[12]\tvalidation_0-error:0.30108\tvalidation_0-fbeta_score:0.256297\n",
      "[13]\tvalidation_0-error:0.30108\tvalidation_0-fbeta_score:0.256297\n",
      "[14]\tvalidation_0-error:0.30108\tvalidation_0-fbeta_score:0.256297\n",
      "[15]\tvalidation_0-error:0.30108\tvalidation_0-fbeta_score:0.256297\n",
      "[16]\tvalidation_0-error:0.30108\tvalidation_0-fbeta_score:0.256273\n",
      "[17]\tvalidation_0-error:0.30096\tvalidation_0-fbeta_score:0.256186\n",
      "[18]\tvalidation_0-error:0.300893\tvalidation_0-fbeta_score:0.25612\n",
      "[19]\tvalidation_0-error:0.300893\tvalidation_0-fbeta_score:0.25612\n",
      "[20]\tvalidation_0-error:0.30096\tvalidation_0-fbeta_score:0.256119\n",
      "[21]\tvalidation_0-error:0.30096\tvalidation_0-fbeta_score:0.256119\n",
      "[22]\tvalidation_0-error:0.30096\tvalidation_0-fbeta_score:0.256119\n",
      "[23]\tvalidation_0-error:0.30096\tvalidation_0-fbeta_score:0.256119\n",
      "[24]\tvalidation_0-error:0.300973\tvalidation_0-fbeta_score:0.256127\n",
      "[25]\tvalidation_0-error:0.300973\tvalidation_0-fbeta_score:0.256127\n",
      "[26]\tvalidation_0-error:0.300973\tvalidation_0-fbeta_score:0.256127\n",
      "[27]\tvalidation_0-error:0.300973\tvalidation_0-fbeta_score:0.256019\n",
      "[28]\tvalidation_0-error:0.300973\tvalidation_0-fbeta_score:0.256019\n",
      "[29]\tvalidation_0-error:0.30096\tvalidation_0-fbeta_score:0.256005\n",
      "[30]\tvalidation_0-error:0.301133\tvalidation_0-fbeta_score:0.25608\n",
      "[31]\tvalidation_0-error:0.301133\tvalidation_0-fbeta_score:0.25608\n",
      "[32]\tvalidation_0-error:0.301133\tvalidation_0-fbeta_score:0.25608\n",
      "[33]\tvalidation_0-error:0.301133\tvalidation_0-fbeta_score:0.25608\n",
      "[34]\tvalidation_0-error:0.301133\tvalidation_0-fbeta_score:0.25608\n",
      "[35]\tvalidation_0-error:0.301093\tvalidation_0-fbeta_score:0.256055\n",
      "[36]\tvalidation_0-error:0.301093\tvalidation_0-fbeta_score:0.256055\n",
      "[37]\tvalidation_0-error:0.301093\tvalidation_0-fbeta_score:0.256055\n",
      "[38]\tvalidation_0-error:0.301093\tvalidation_0-fbeta_score:0.25603\n",
      "[39]\tvalidation_0-error:0.301093\tvalidation_0-fbeta_score:0.25603\n",
      "[40]\tvalidation_0-error:0.301093\tvalidation_0-fbeta_score:0.25603\n",
      "[41]\tvalidation_0-error:0.301093\tvalidation_0-fbeta_score:0.25603\n",
      "[42]\tvalidation_0-error:0.30108\tvalidation_0-fbeta_score:0.256022\n",
      "[43]\tvalidation_0-error:0.30108\tvalidation_0-fbeta_score:0.256022\n",
      "[44]\tvalidation_0-error:0.30108\tvalidation_0-fbeta_score:0.256022\n",
      "[45]\tvalidation_0-error:0.301067\tvalidation_0-fbeta_score:0.256013\n",
      "[46]\tvalidation_0-error:0.300987\tvalidation_0-fbeta_score:0.256011\n",
      "[47]\tvalidation_0-error:0.301013\tvalidation_0-fbeta_score:0.256025\n",
      "[48]\tvalidation_0-error:0.300973\tvalidation_0-fbeta_score:0.255995\n",
      "[49]\tvalidation_0-error:0.300973\tvalidation_0-fbeta_score:0.255995\n",
      "[50]\tvalidation_0-error:0.300973\tvalidation_0-fbeta_score:0.255995\n",
      "[51]\tvalidation_0-error:0.300973\tvalidation_0-fbeta_score:0.255995\n",
      "[52]\tvalidation_0-error:0.300973\tvalidation_0-fbeta_score:0.255995\n",
      "[53]\tvalidation_0-error:0.301067\tvalidation_0-fbeta_score:0.256016\n",
      "[54]\tvalidation_0-error:0.301067\tvalidation_0-fbeta_score:0.256016\n",
      "[55]\tvalidation_0-error:0.301053\tvalidation_0-fbeta_score:0.256005\n",
      "[56]\tvalidation_0-error:0.301067\tvalidation_0-fbeta_score:0.256011\n",
      "[57]\tvalidation_0-error:0.301067\tvalidation_0-fbeta_score:0.256011\n",
      "[58]\tvalidation_0-error:0.301067\tvalidation_0-fbeta_score:0.256011\n",
      "[59]\tvalidation_0-error:0.30108\tvalidation_0-fbeta_score:0.256016\n",
      "[60]\tvalidation_0-error:0.30104\tvalidation_0-fbeta_score:0.256037\n",
      "[61]\tvalidation_0-error:0.301013\tvalidation_0-fbeta_score:0.256025\n",
      "[62]\tvalidation_0-error:0.301053\tvalidation_0-fbeta_score:0.256048\n",
      "[63]\tvalidation_0-error:0.301053\tvalidation_0-fbeta_score:0.256048\n",
      "[64]\tvalidation_0-error:0.301053\tvalidation_0-fbeta_score:0.256045\n",
      "[65]\tvalidation_0-error:0.301053\tvalidation_0-fbeta_score:0.256045\n",
      "[66]\tvalidation_0-error:0.301053\tvalidation_0-fbeta_score:0.256045\n",
      "[67]\tvalidation_0-error:0.30096\tvalidation_0-fbeta_score:0.255813\n",
      "[68]\tvalidation_0-error:0.300947\tvalidation_0-fbeta_score:0.255804\n",
      "[69]\tvalidation_0-error:0.3012\tvalidation_0-fbeta_score:0.256036\n",
      "[70]\tvalidation_0-error:0.30104\tvalidation_0-fbeta_score:0.255918\n",
      "[71]\tvalidation_0-error:0.301013\tvalidation_0-fbeta_score:0.255904\n",
      "[72]\tvalidation_0-error:0.301013\tvalidation_0-fbeta_score:0.255904\n",
      "[73]\tvalidation_0-error:0.300973\tvalidation_0-fbeta_score:0.255843\n",
      "[74]\tvalidation_0-error:0.300933\tvalidation_0-fbeta_score:0.255823\n",
      "[75]\tvalidation_0-error:0.300893\tvalidation_0-fbeta_score:0.255776\n",
      "[76]\tvalidation_0-error:0.300907\tvalidation_0-fbeta_score:0.255787\n",
      "[77]\tvalidation_0-error:0.300907\tvalidation_0-fbeta_score:0.255787\n",
      "[78]\tvalidation_0-error:0.30092\tvalidation_0-fbeta_score:0.25579\n",
      "[79]\tvalidation_0-error:0.30092\tvalidation_0-fbeta_score:0.25579\n",
      "[80]\tvalidation_0-error:0.30092\tvalidation_0-fbeta_score:0.25579\n",
      "[81]\tvalidation_0-error:0.300947\tvalidation_0-fbeta_score:0.255799\n",
      "[82]\tvalidation_0-error:0.300933\tvalidation_0-fbeta_score:0.255788\n",
      "[83]\tvalidation_0-error:0.300933\tvalidation_0-fbeta_score:0.255788\n",
      "[84]\tvalidation_0-error:0.300933\tvalidation_0-fbeta_score:0.255788\n",
      "[85]\tvalidation_0-error:0.300933\tvalidation_0-fbeta_score:0.255788\n",
      "[86]\tvalidation_0-error:0.300893\tvalidation_0-fbeta_score:0.255751\n",
      "[87]\tvalidation_0-error:0.300893\tvalidation_0-fbeta_score:0.255778\n",
      "[88]\tvalidation_0-error:0.300907\tvalidation_0-fbeta_score:0.255784\n",
      "[89]\tvalidation_0-error:0.300813\tvalidation_0-fbeta_score:0.255725\n",
      "[90]\tvalidation_0-error:0.3008\tvalidation_0-fbeta_score:0.255727\n",
      "[91]\tvalidation_0-error:0.300747\tvalidation_0-fbeta_score:0.255677\n",
      "[92]\tvalidation_0-error:0.300733\tvalidation_0-fbeta_score:0.255671\n",
      "[93]\tvalidation_0-error:0.3008\tvalidation_0-fbeta_score:0.255689\n",
      "[94]\tvalidation_0-error:0.3008\tvalidation_0-fbeta_score:0.255689\n",
      "[95]\tvalidation_0-error:0.3008\tvalidation_0-fbeta_score:0.255689\n",
      "[96]\tvalidation_0-error:0.3008\tvalidation_0-fbeta_score:0.255689\n",
      "[97]\tvalidation_0-error:0.3008\tvalidation_0-fbeta_score:0.255689\n",
      "[98]\tvalidation_0-error:0.3008\tvalidation_0-fbeta_score:0.255689\n",
      "[99]\tvalidation_0-error:0.300813\tvalidation_0-fbeta_score:0.255711\n",
      "[100]\tvalidation_0-error:0.300813\tvalidation_0-fbeta_score:0.255711\n",
      "[101]\tvalidation_0-error:0.300813\tvalidation_0-fbeta_score:0.255711\n",
      "[102]\tvalidation_0-error:0.300827\tvalidation_0-fbeta_score:0.255717\n",
      "[103]\tvalidation_0-error:0.300827\tvalidation_0-fbeta_score:0.255693\n",
      "[104]\tvalidation_0-error:0.300853\tvalidation_0-fbeta_score:0.255707\n",
      "[105]\tvalidation_0-error:0.30088\tvalidation_0-fbeta_score:0.255724\n",
      "[106]\tvalidation_0-error:0.300867\tvalidation_0-fbeta_score:0.255713\n",
      "[107]\tvalidation_0-error:0.300867\tvalidation_0-fbeta_score:0.255713\n",
      "[108]\tvalidation_0-error:0.300893\tvalidation_0-fbeta_score:0.255727\n",
      "[109]\tvalidation_0-error:0.300907\tvalidation_0-fbeta_score:0.255735\n",
      "[110]\tvalidation_0-error:0.300907\tvalidation_0-fbeta_score:0.255716\n",
      "[111]\tvalidation_0-error:0.300907\tvalidation_0-fbeta_score:0.255714\n",
      "[112]\tvalidation_0-error:0.300893\tvalidation_0-fbeta_score:0.255705\n",
      "[113]\tvalidation_0-error:0.300893\tvalidation_0-fbeta_score:0.255705\n",
      "[114]\tvalidation_0-error:0.300853\tvalidation_0-fbeta_score:0.25568\n",
      "[115]\tvalidation_0-error:0.30084\tvalidation_0-fbeta_score:0.255674\n",
      "[116]\tvalidation_0-error:0.30084\tvalidation_0-fbeta_score:0.255674\n",
      "[117]\tvalidation_0-error:0.300827\tvalidation_0-fbeta_score:0.255665\n",
      "[118]\tvalidation_0-error:0.300867\tvalidation_0-fbeta_score:0.255685\n",
      "[119]\tvalidation_0-error:0.300867\tvalidation_0-fbeta_score:0.255696\n",
      "[120]\tvalidation_0-error:0.300867\tvalidation_0-fbeta_score:0.255696\n",
      "[121]\tvalidation_0-error:0.300853\tvalidation_0-fbeta_score:0.255709\n",
      "[122]\tvalidation_0-error:0.300827\tvalidation_0-fbeta_score:0.255687\n",
      "[123]\tvalidation_0-error:0.30084\tvalidation_0-fbeta_score:0.255696\n",
      "[124]\tvalidation_0-error:0.30092\tvalidation_0-fbeta_score:0.255733\n",
      "[125]\tvalidation_0-error:0.30092\tvalidation_0-fbeta_score:0.255733\n",
      "[126]\tvalidation_0-error:0.30088\tvalidation_0-fbeta_score:0.255716\n",
      "[127]\tvalidation_0-error:0.300893\tvalidation_0-fbeta_score:0.255724\n",
      "[128]\tvalidation_0-error:0.300853\tvalidation_0-fbeta_score:0.255701\n",
      "[129]\tvalidation_0-error:0.300853\tvalidation_0-fbeta_score:0.255701\n",
      "[130]\tvalidation_0-error:0.300853\tvalidation_0-fbeta_score:0.255701\n",
      "[131]\tvalidation_0-error:0.30088\tvalidation_0-fbeta_score:0.255697\n",
      "[132]\tvalidation_0-error:0.30088\tvalidation_0-fbeta_score:0.255697\n",
      "[133]\tvalidation_0-error:0.300893\tvalidation_0-fbeta_score:0.255705\n",
      "[134]\tvalidation_0-error:0.300907\tvalidation_0-fbeta_score:0.255694\n",
      "[135]\tvalidation_0-error:0.300893\tvalidation_0-fbeta_score:0.255686\n",
      "[136]\tvalidation_0-error:0.300893\tvalidation_0-fbeta_score:0.255686\n",
      "[137]\tvalidation_0-error:0.300893\tvalidation_0-fbeta_score:0.255686\n",
      "[138]\tvalidation_0-error:0.300893\tvalidation_0-fbeta_score:0.255686\n",
      "[139]\tvalidation_0-error:0.300893\tvalidation_0-fbeta_score:0.255686\n",
      "[140]\tvalidation_0-error:0.300893\tvalidation_0-fbeta_score:0.255686\n",
      "[141]\tvalidation_0-error:0.300867\tvalidation_0-fbeta_score:0.255669\n",
      "[142]\tvalidation_0-error:0.300867\tvalidation_0-fbeta_score:0.255669\n",
      "[143]\tvalidation_0-error:0.300867\tvalidation_0-fbeta_score:0.255669\n",
      "[144]\tvalidation_0-error:0.30096\tvalidation_0-fbeta_score:0.255715\n",
      "[145]\tvalidation_0-error:0.300947\tvalidation_0-fbeta_score:0.255728\n",
      "[146]\tvalidation_0-error:0.30096\tvalidation_0-fbeta_score:0.255728\n",
      "[147]\tvalidation_0-error:0.30096\tvalidation_0-fbeta_score:0.255731\n",
      "[148]\tvalidation_0-error:0.30096\tvalidation_0-fbeta_score:0.255731\n",
      "[149]\tvalidation_0-error:0.301\tvalidation_0-fbeta_score:0.255759\n",
      "[150]\tvalidation_0-error:0.301\tvalidation_0-fbeta_score:0.255759\n",
      "[151]\tvalidation_0-error:0.300973\tvalidation_0-fbeta_score:0.255742\n",
      "[152]\tvalidation_0-error:0.300987\tvalidation_0-fbeta_score:0.255748\n",
      "[153]\tvalidation_0-error:0.300973\tvalidation_0-fbeta_score:0.25574\n",
      "[154]\tvalidation_0-error:0.300973\tvalidation_0-fbeta_score:0.25574\n",
      "[155]\tvalidation_0-error:0.300973\tvalidation_0-fbeta_score:0.25574\n",
      "[156]\tvalidation_0-error:0.300973\tvalidation_0-fbeta_score:0.25574\n",
      "[157]\tvalidation_0-error:0.300973\tvalidation_0-fbeta_score:0.25574\n",
      "[158]\tvalidation_0-error:0.300973\tvalidation_0-fbeta_score:0.25574\n",
      "[159]\tvalidation_0-error:0.300973\tvalidation_0-fbeta_score:0.25574\n",
      "[160]\tvalidation_0-error:0.300973\tvalidation_0-fbeta_score:0.25574\n",
      "[161]\tvalidation_0-error:0.300973\tvalidation_0-fbeta_score:0.25574\n",
      "[162]\tvalidation_0-error:0.300973\tvalidation_0-fbeta_score:0.25574\n",
      "[163]\tvalidation_0-error:0.300987\tvalidation_0-fbeta_score:0.255748\n",
      "[164]\tvalidation_0-error:0.300987\tvalidation_0-fbeta_score:0.255748\n",
      "[165]\tvalidation_0-error:0.300987\tvalidation_0-fbeta_score:0.255748\n",
      "[166]\tvalidation_0-error:0.300987\tvalidation_0-fbeta_score:0.255748\n",
      "[167]\tvalidation_0-error:0.300987\tvalidation_0-fbeta_score:0.255745\n",
      "[168]\tvalidation_0-error:0.301\tvalidation_0-fbeta_score:0.255754\n",
      "[169]\tvalidation_0-error:0.301\tvalidation_0-fbeta_score:0.255754\n",
      "[170]\tvalidation_0-error:0.300987\tvalidation_0-fbeta_score:0.255748\n",
      "[171]\tvalidation_0-error:0.300987\tvalidation_0-fbeta_score:0.255748\n",
      "[172]\tvalidation_0-error:0.301\tvalidation_0-fbeta_score:0.255754\n",
      "[173]\tvalidation_0-error:0.301\tvalidation_0-fbeta_score:0.255754\n",
      "[174]\tvalidation_0-error:0.301\tvalidation_0-fbeta_score:0.255754\n",
      "[175]\tvalidation_0-error:0.30096\tvalidation_0-fbeta_score:0.255728\n",
      "[176]\tvalidation_0-error:0.300973\tvalidation_0-fbeta_score:0.255726\n",
      "[177]\tvalidation_0-error:0.300973\tvalidation_0-fbeta_score:0.255726\n",
      "[178]\tvalidation_0-error:0.300973\tvalidation_0-fbeta_score:0.255731\n",
      "[179]\tvalidation_0-error:0.30096\tvalidation_0-fbeta_score:0.255728\n",
      "[180]\tvalidation_0-error:0.300973\tvalidation_0-fbeta_score:0.255737\n",
      "[181]\tvalidation_0-error:0.300973\tvalidation_0-fbeta_score:0.255737\n",
      "[182]\tvalidation_0-error:0.300973\tvalidation_0-fbeta_score:0.255737\n",
      "[183]\tvalidation_0-error:0.30096\tvalidation_0-fbeta_score:0.255728\n",
      "[184]\tvalidation_0-error:0.30096\tvalidation_0-fbeta_score:0.255728\n",
      "[185]\tvalidation_0-error:0.30096\tvalidation_0-fbeta_score:0.255728\n",
      "[186]\tvalidation_0-error:0.300973\tvalidation_0-fbeta_score:0.255729\n",
      "[187]\tvalidation_0-error:0.301013\tvalidation_0-fbeta_score:0.255738\n",
      "[188]\tvalidation_0-error:0.301013\tvalidation_0-fbeta_score:0.255738\n",
      "[189]\tvalidation_0-error:0.301053\tvalidation_0-fbeta_score:0.255725\n",
      "[190]\tvalidation_0-error:0.301053\tvalidation_0-fbeta_score:0.255725\n",
      "[191]\tvalidation_0-error:0.301133\tvalidation_0-fbeta_score:0.25576\n",
      "[192]\tvalidation_0-error:0.301107\tvalidation_0-fbeta_score:0.255748\n",
      "[193]\tvalidation_0-error:0.3012\tvalidation_0-fbeta_score:0.255794\n",
      "[194]\tvalidation_0-error:0.3012\tvalidation_0-fbeta_score:0.255794\n",
      "[195]\tvalidation_0-error:0.301187\tvalidation_0-fbeta_score:0.255786\n",
      "[196]\tvalidation_0-error:0.3012\tvalidation_0-fbeta_score:0.255794\n",
      "[197]\tvalidation_0-error:0.3012\tvalidation_0-fbeta_score:0.255794\n",
      "[198]\tvalidation_0-error:0.301133\tvalidation_0-fbeta_score:0.255768\n",
      "[199]\tvalidation_0-error:0.301133\tvalidation_0-fbeta_score:0.255768\n",
      "[200]\tvalidation_0-error:0.301133\tvalidation_0-fbeta_score:0.255768\n",
      "[201]\tvalidation_0-error:0.301147\tvalidation_0-fbeta_score:0.255774\n",
      "[202]\tvalidation_0-error:0.30116\tvalidation_0-fbeta_score:0.25578\n",
      "[203]\tvalidation_0-error:0.30116\tvalidation_0-fbeta_score:0.25578\n",
      "[204]\tvalidation_0-error:0.30116\tvalidation_0-fbeta_score:0.25578\n",
      "[205]\tvalidation_0-error:0.30116\tvalidation_0-fbeta_score:0.25578\n",
      "[206]\tvalidation_0-error:0.30116\tvalidation_0-fbeta_score:0.25578\n",
      "[207]\tvalidation_0-error:0.30116\tvalidation_0-fbeta_score:0.25578\n",
      "[208]\tvalidation_0-error:0.30116\tvalidation_0-fbeta_score:0.25578\n",
      "[209]\tvalidation_0-error:0.30116\tvalidation_0-fbeta_score:0.25578\n",
      "[210]\tvalidation_0-error:0.30116\tvalidation_0-fbeta_score:0.25578\n",
      "[211]\tvalidation_0-error:0.30116\tvalidation_0-fbeta_score:0.255774\n",
      "[212]\tvalidation_0-error:0.301147\tvalidation_0-fbeta_score:0.255779\n",
      "[213]\tvalidation_0-error:0.301147\tvalidation_0-fbeta_score:0.255782\n",
      "[214]\tvalidation_0-error:0.30116\tvalidation_0-fbeta_score:0.255799\n",
      "[215]\tvalidation_0-error:0.301173\tvalidation_0-fbeta_score:0.255804\n",
      "[216]\tvalidation_0-error:0.30116\tvalidation_0-fbeta_score:0.255796\n",
      "[217]\tvalidation_0-error:0.301173\tvalidation_0-fbeta_score:0.255802\n",
      "Stopping. Best iteration:\n",
      "[117]\tvalidation_0-error:0.300827\tvalidation_0-fbeta_score:0.255665\n",
      "\n"
     ]
    }
   ],
   "source": [
    "from sklearn.metrics import make_scorer, f1_score, fbeta_score\n",
    "from xgboost import XGBClassifier\n",
    "\n",
    "clf = XGBClassifier(n_estimators=1000, n_jobs=4, silent=False, max_depth=3, learning_rate=0.3)\n",
    "\n",
    "def custom_eval(y_pred, y_true):\n",
    "    labels = y_true.get_label()\n",
    "    y_bin = [1. if y_cont > 0.5 else 0. for y_cont in y_pred]\n",
    "    # return 'f1_score', f1_score(labels, y_bin)\n",
    "    return 'fbeta_score', 1 - fbeta_score(labels, y_bin, beta=0.5)\n",
    "\n",
    "model = clf.fit(minimal_train_test_data['X_train'], \n",
    "                minimal_train_test_data['y_train'], \n",
    "                eval_set=[(minimal_train_test_data['X_test'], minimal_train_test_data['y_test'])], \n",
    "                eval_metric=custom_eval, \n",
    "                early_stopping_rounds=100, \n",
    "                verbose=True)"
   ]
  },
  {
   "cell_type": "code",
   "execution_count": 61,
   "metadata": {},
   "outputs": [],
   "source": [
    "# Define cutoff for probabilities\n",
    "cutoff = 0.7\n",
    "\n",
    "# Calculates predictions for X_test\n",
    "pred = model.predict(X_test)\n",
    "prob = np.array([i[1] for i in model.predict_proba(X_test)])\n",
    "prob_bin = np.array([1.0 if p > cutoff else 0.0 for p in prob])\n",
    "\n",
    "# Calculates predictions for X_test_zero\n",
    "pred_zero = model.predict(X_test_zero)\n",
    "prob_zero = np.array([i[1] for i in model.predict_proba(X_test_zero)])\n",
    "prob_bin_zero = np.array([1.0 if p > cutoff else 0.0 for p in prob_zero])"
   ]
  },
  {
   "cell_type": "code",
   "execution_count": 62,
   "metadata": {},
   "outputs": [
    {
     "name": "stdout",
     "output_type": "stream",
     "text": [
      "              precision    recall  f1-score   support\n",
      "\n",
      "           0       0.01      0.53      0.02       367\n",
      "           1       1.00      0.70      0.82     74633\n",
      "\n",
      "   micro avg       0.70      0.70      0.70     75000\n",
      "   macro avg       0.50      0.61      0.42     75000\n",
      "weighted avg       0.99      0.70      0.82     75000\n",
      "\n",
      "[[  193   174]\n",
      " [22388 52245]]\n",
      "------------------------------------------------------------\n",
      "              precision    recall  f1-score   support\n",
      "\n",
      "           0       0.01      1.00      0.02       193\n",
      "           1       1.00      0.00      0.00     22388\n",
      "\n",
      "   micro avg       0.01      0.01      0.01     22581\n",
      "   macro avg       0.50      0.50      0.01     22581\n",
      "weighted avg       0.99      0.01      0.00     22581\n",
      "\n",
      "[[  193     0]\n",
      " [22387     1]]\n"
     ]
    }
   ],
   "source": [
    "from sklearn.metrics import classification_report, confusion_matrix\n",
    "\n",
    "print(classification_report(pred, y_test))\n",
    "print(confusion_matrix(pred, y_test))\n",
    "print('-' * 60)\n",
    "print(classification_report(pred_zero, y_test_zero))\n",
    "print(confusion_matrix(pred_zero, y_test_zero))"
   ]
  },
  {
   "cell_type": "code",
   "execution_count": 66,
   "metadata": {},
   "outputs": [
    {
     "name": "stdout",
     "output_type": "stream",
     "text": [
      "fbeta_score zero:\n",
      "0.000532481363152\n",
      "\n",
      "fbeta_score all:\n",
      "0.590148885972\n"
     ]
    }
   ],
   "source": [
    "from sklearn.metrics import fbeta_score\n",
    "print('fbeta_score zero:')\n",
    "print(fbeta_score(prob_bin_zero, y_test_zero, beta=0.5))\n",
    "print('\\nfbeta_score all:')\n",
    "print(fbeta_score(prob_bin, y_test, beta=0.5))"
   ]
  },
  {
   "cell_type": "code",
   "execution_count": 56,
   "metadata": {},
   "outputs": [
    {
     "name": "stdout",
     "output_type": "stream",
     "text": [
      "Confusion matrix, without normalization\n",
      "[[  101 22480]\n",
      " [  102 52317]]\n"
     ]
    },
    {
     "data": {
      "text/plain": [
       "<matplotlib.axes._subplots.AxesSubplot at 0x7f9f61411828>"
      ]
     },
     "execution_count": 56,
     "metadata": {},
     "output_type": "execute_result"
    },
    {
     "data": {
      "image/png": "[encoded data removed]",
      "text/plain": [
       "<Figure size 432x288 with 2 Axes>"
      ]
     },
     "metadata": {},
     "output_type": "display_data"
    }
   ],
   "source": [
    "plot_confusion_matrix(np.array(y_test), pred, classes=np.array([0, 1]))"
   ]
  },
  {
   "cell_type": "code",
   "execution_count": 57,
   "metadata": {},
   "outputs": [
    {
     "name": "stdout",
     "output_type": "stream",
     "text": [
      "Confusion matrix, without normalization\n",
      "[[  101 22479]\n",
      " [    0     1]]\n"
     ]
    },
    {
     "data": {
      "text/plain": [
       "<matplotlib.axes._subplots.AxesSubplot at 0x7f9f614110b8>"
      ]
     },
     "execution_count": 57,
     "metadata": {},
     "output_type": "execute_result"
    },
    {
     "data": {
      "image/png": "[encoded data removed]",
      "text/plain": [
       "<Figure size 432x288 with 2 Axes>"
      ]
     },
     "metadata": {},
     "output_type": "display_data"
    }
   ],
   "source": [
    "plot_confusion_matrix(np.array(y_test_zero), pred_zero, classes=np.array([0, 1]))"
   ]
  },
  {
   "cell_type": "code",
   "execution_count": 48,
   "metadata": {},
   "outputs": [],
   "source": [
    "from sklearn import svm, datasets\n",
    "a = datasets.load_iris()"
   ]
  },
  {
   "cell_type": "code",
   "execution_count": 52,
   "metadata": {},
   "outputs": [
    {
     "data": {
      "text/plain": [
       "array(['setosa', 'versicolor', 'virginica'], \n",
       "      dtype='<U10')"
      ]
     },
     "execution_count": 52,
     "metadata": {},
     "output_type": "execute_result"
    }
   ],
   "source": [
    "a.target_names[[0, 1, 2]]"
   ]
  },
  {
   "cell_type": "code",
   "execution_count": 30,
   "metadata": {},
   "outputs": [],
   "source": [
    "from sklearn.utils.multiclass import unique_labels\n",
    "\n",
    "def plot_confusion_matrix(y_true, y_pred, classes,\n",
    "                          normalize=False,\n",
    "                          title=None,\n",
    "                          cmap=plt.cm.Blues):\n",
    "    \"\"\"\n",
    "    This function prints and plots the confusion matrix.\n",
    "    Normalization can be applied by setting `normalize=True`.\n",
    "    \"\"\"\n",
    "    if not title:\n",
    "        if normalize:\n",
    "            title = 'Normalized confusion matrix'\n",
    "        else:\n",
    "            title = 'Confusion matrix, without normalization'\n",
    "\n",
    "    # Compute confusion matrix\n",
    "    cm = confusion_matrix(y_true, y_pred)\n",
    "    # Only use the labels that appear in the data\n",
    "    classes = classes[unique_labels(y_true, y_pred)]\n",
    "    if normalize:\n",
    "        cm = cm.astype('float') / cm.sum(axis=1)[:, np.newaxis]\n",
    "        print(\"Normalized confusion matrix\")\n",
    "    else:\n",
    "        print('Confusion matrix, without normalization')\n",
    "\n",
    "    print(cm)\n",
    "\n",
    "    fig, ax = plt.subplots()\n",
    "    im = ax.imshow(cm, interpolation='nearest', cmap=cmap)\n",
    "    ax.figure.colorbar(im, ax=ax)\n",
    "    # We want to show all ticks...\n",
    "    ax.set(xticks=np.arange(cm.shape[1]),\n",
    "           yticks=np.arange(cm.shape[0]),\n",
    "           # ... and label them with the respective list entries\n",
    "           xticklabels=classes, yticklabels=classes,\n",
    "           title=title,\n",
    "           ylabel='True label',\n",
    "           xlabel='Predicted label')\n",
    "\n",
    "    # Rotate the tick labels and set their alignment.\n",
    "    plt.setp(ax.get_xticklabels(), rotation=45, ha=\"right\",\n",
    "             rotation_mode=\"anchor\")\n",
    "\n",
    "    # Loop over data dimensions and create text annotations.\n",
    "    fmt = '.2f' if normalize else 'd'\n",
    "    thresh = cm.max() / 2.\n",
    "    for i in range(cm.shape[0]):\n",
    "        for j in range(cm.shape[1]):\n",
    "            ax.text(j, i, format(cm[i, j], fmt),\n",
    "                    ha=\"center\", va=\"center\",\n",
    "                    color=\"white\" if cm[i, j] > thresh else \"black\")\n",
    "    fig.tight_layout()\n",
    "    return ax"
   ]
  }
 ],
 "metadata": {
  "kernelspec": {
   "display_name": "Python 3",
   "language": "python",
   "name": "python3"
  },
  "language_info": {
   "codemirror_mode": {
    "name": "ipython",
    "version": 3
   },
   "file_extension": ".py",
   "mimetype": "text/x-python",
   "name": "python",
   "nbconvert_exporter": "python",
   "pygments_lexer": "ipython3",
   "version": "3.6.7"
  }
 },
 "nbformat": 4,
 "nbformat_minor": 2
}
